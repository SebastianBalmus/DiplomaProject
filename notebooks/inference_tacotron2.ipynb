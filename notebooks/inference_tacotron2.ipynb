{
 "cells": [
  {
   "cell_type": "code",
   "execution_count": 1,
   "metadata": {},
   "outputs": [],
   "source": [
    "import sys\n",
    "sys.path.append('..')\n",
    "\n",
    "import os\n",
    "from IPython.display import Audio\n",
    "from inference_handlers.Tacotron2InferenceHandler import Tacotron2InferenceHandler"
   ]
  },
  {
   "cell_type": "code",
   "execution_count": null,
   "metadata": {},
   "outputs": [],
   "source": [
    "print(os.listdir('/train_path/working_models'))\n",
    "print(os.listdir('/train_path/tacotron2_ckpt'))"
   ]
  },
  {
   "cell_type": "code",
   "execution_count": null,
   "metadata": {},
   "outputs": [],
   "source": [
    "# inference_handler = Tacotron2InferenceHandler(\n",
    "#     '/train_path/working_models/tacotron2_initial_training_modified',\n",
    "#     use_cuda=False\n",
    "# )\n",
    "inference_handler = Tacotron2InferenceHandler(\n",
    "    '/train_path/tacotron2_ckpt/ckpt_200000',\n",
    "    use_cuda=False\n",
    ")"
   ]
  },
  {
   "cell_type": "code",
   "execution_count": null,
   "metadata": {},
   "outputs": [],
   "source": [
    "short_sentence = inference_handler.infer(\n",
    "    'but which must certainly have come from the study of the twelfth or even the eleventh century MSS.'\n",
    ")\n",
    "\n",
    "long_sentence = inference_handler.infer(\n",
    "    'I am trying to see if the model can speak really long sentences but it should be fine.'\n",
    ")\n",
    "\n",
    "numbers_sentence = inference_handler.infer(\n",
    "    'Yesterday I ran for 1 hour and 30 minutes.'\n",
    ")\n",
    "\n",
    "abbreviation_sentence = inference_handler.infer(\n",
    "    'I finished my studies at T.U.C.N.'\n",
    ")"
   ]
  },
  {
   "cell_type": "code",
   "execution_count": null,
   "metadata": {},
   "outputs": [],
   "source": [
    "Audio(inference_handler.audio(short_sentence), rate=22050)"
   ]
  },
  {
   "cell_type": "code",
   "execution_count": null,
   "metadata": {},
   "outputs": [],
   "source": [
    "Audio(inference_handler.audio(long_sentence), rate=22050)"
   ]
  },
  {
   "cell_type": "code",
   "execution_count": null,
   "metadata": {},
   "outputs": [],
   "source": [
    "Audio(inference_handler.audio(numbers_sentence), rate=22050)"
   ]
  },
  {
   "cell_type": "code",
   "execution_count": null,
   "metadata": {},
   "outputs": [],
   "source": [
    "Audio(inference_handler.audio(abbreviation_sentence), rate=22050)"
   ]
  },
  {
   "cell_type": "code",
   "execution_count": null,
   "metadata": {},
   "outputs": [],
   "source": []
  }
 ],
 "metadata": {
  "kernelspec": {
   "display_name": "Python 3",
   "language": "python",
   "name": "python3"
  },
  "language_info": {
   "codemirror_mode": {
    "name": "ipython",
    "version": 3
   },
   "file_extension": ".py",
   "mimetype": "text/x-python",
   "name": "python",
   "nbconvert_exporter": "python",
   "pygments_lexer": "ipython3",
   "version": "3.6.9"
  }
 },
 "nbformat": 4,
 "nbformat_minor": 2
}
