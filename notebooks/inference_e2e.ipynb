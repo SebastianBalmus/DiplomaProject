{
 "cells": [
  {
   "cell_type": "code",
   "execution_count": null,
   "metadata": {},
   "outputs": [],
   "source": [
    "import sys\n",
    "sys.path.append('..')\n",
    "\n",
    "import os\n",
    "import matplotlib.pyplot as plt\n",
    "from IPython.display import Audio\n",
    "from inference_handlers.HiFiGanInferenceHandler import HiFiGanInferenceHandler\n",
    "from inference_handlers.Tacotron2InferenceHandler import Tacotron2InferenceHandler"
   ]
  },
  {
   "cell_type": "code",
   "execution_count": null,
   "metadata": {},
   "outputs": [],
   "source": [
    "print(os.listdir('/train_path/working_models'))"
   ]
  },
  {
   "cell_type": "code",
   "execution_count": null,
   "metadata": {},
   "outputs": [],
   "source": [
    "tacotron2 = Tacotron2InferenceHandler(\n",
    "    '/train_path/working_models/tacotron2_initial_training_modified',\n",
    "    use_cuda=True\n",
    ")"
   ]
  },
  {
   "cell_type": "code",
   "execution_count": null,
   "metadata": {},
   "outputs": [],
   "source": [
    "short_sentence = tacotron2.infer_e2e(\n",
    "    'Hello there, professors!'\n",
    ")\n",
    "\n",
    "long_sentence = tacotron2.infer_e2e(\n",
    "    'I am trying to see if the model can speak really long sentences but it should be fine.'\n",
    ")\n",
    "\n",
    "numbers_sentence = tacotron2.infer_e2e(\n",
    "    'Yesterday I ran for 1 hour and 30 minutes.'\n",
    ")\n",
    "\n",
    "abbreviation_sentence = tacotron2.infer_e2e(\n",
    "    'I finished my studies at T.U.C.N.'\n",
    ")"
   ]
  },
  {
   "cell_type": "code",
   "execution_count": null,
   "metadata": {},
   "outputs": [],
   "source": [
    "hifigan = HiFiGanInferenceHandler(\n",
    "    '/train_path/working_models/hifigan_initial',\n",
    "    use_cuda=True\n",
    ")"
   ]
  },
  {
   "cell_type": "code",
   "execution_count": null,
   "metadata": {},
   "outputs": [],
   "source": [
    "short_sentence_wav, short_sentence_sr = hifigan.infer(short_sentence)\n",
    "long_sentence_wav, long_sentence_sr = hifigan.infer(long_sentence)\n",
    "numbers_sentence_wav, numbers_sentence_sr = hifigan.infer(numbers_sentence)\n",
    "abbreviation_sentence_wav, abbreviation_sentence_sr = hifigan.infer(abbreviation_sentence)"
   ]
  },
  {
   "cell_type": "code",
   "execution_count": null,
   "metadata": {},
   "outputs": [],
   "source": [
    "Audio(short_sentence_wav, rate=short_sentence_sr)"
   ]
  },
  {
   "cell_type": "code",
   "execution_count": null,
   "metadata": {},
   "outputs": [],
   "source": [
    "Audio(long_sentence_wav, rate=long_sentence_sr)"
   ]
  },
  {
   "cell_type": "code",
   "execution_count": null,
   "metadata": {},
   "outputs": [],
   "source": [
    "Audio(numbers_sentence_wav, rate=numbers_sentence_sr)"
   ]
  },
  {
   "cell_type": "code",
   "execution_count": null,
   "metadata": {},
   "outputs": [],
   "source": [
    "Audio(abbreviation_sentence_wav, rate=abbreviation_sentence_sr)"
   ]
  },
  {
   "cell_type": "code",
   "execution_count": null,
   "metadata": {},
   "outputs": [],
   "source": []
  }
 ],
 "metadata": {
  "kernelspec": {
   "display_name": "Python 3",
   "language": "python",
   "name": "python3"
  },
  "language_info": {
   "codemirror_mode": {
    "name": "ipython",
    "version": 3
   },
   "file_extension": ".py",
   "mimetype": "text/x-python",
   "name": "python",
   "nbconvert_exporter": "python",
   "pygments_lexer": "ipython3",
   "version": "3.6.9"
  }
 },
 "nbformat": 4,
 "nbformat_minor": 2
}
