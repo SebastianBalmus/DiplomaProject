{
 "cells": [
  {
   "cell_type": "code",
   "execution_count": null,
   "metadata": {},
   "outputs": [],
   "source": [
    "import sys\n",
    "sys.path.append('..')\n",
    "\n",
    "import os\n",
    "import torch\n",
    "import librosa.display\n",
    "import matplotlib.pyplot as plt\n",
    "from IPython.display import Audio\n",
    "from inference_handlers.HiFiGanInferenceHandler import HiFiGanInferenceHandler\n",
    "from hparams.HiFiGanHParams import HiFiGanHParams as hps\n",
    "from dataset.HiFiGanDataset import HiFiGanDataset"
   ]
  },
  {
   "cell_type": "code",
   "execution_count": null,
   "metadata": {},
   "outputs": [],
   "source": [
    "print(os.listdir('/train_path/working_models'))\n",
    "print(os.listdir('/train_path/hifigan_ckpt'))"
   ]
  },
  {
   "cell_type": "code",
   "execution_count": null,
   "metadata": {},
   "outputs": [],
   "source": [
    "inference_handler = HiFiGanInferenceHandler(\n",
    "    '/train_path/working_models/hifigan_initial',\n",
    "    use_cuda=False\n",
    ")"
   ]
  },
  {
   "cell_type": "code",
   "execution_count": null,
   "metadata": {},
   "outputs": [],
   "source": [
    "sample_wav, sample_sr = HiFiGanDataset._load_wav('/train_path/test_wavs/LJ050-0269.wav')\n",
    "# sample_wav, sr = HiFiGanDataset._load_wav('/train_path/test_wavs/LJ046-0193.wav')"
   ]
  },
  {
   "cell_type": "code",
   "execution_count": null,
   "metadata": {},
   "outputs": [],
   "source": [
    "Audio(sample_wav, rate=sample_sr)"
   ]
  },
  {
   "cell_type": "code",
   "execution_count": null,
   "metadata": {},
   "outputs": [],
   "source": [
    "mel_spec = HiFiGanDataset.mel_spectrogram(\n",
    "    torch.FloatTensor(sample_wav / hps.max_wav_value).unsqueeze(0),\n",
    "    n_fft=hps.n_fft,\n",
    "    num_mels=hps.num_mels,\n",
    "    sampling_rate=hps.sampling_rate,\n",
    "    hop_size=hps.hop_size,\n",
    "    win_size=hps.win_size,\n",
    "    fmin=hps.fmin,\n",
    "    fmax=hps.fmax_for_loss,\n",
    ")\n"
   ]
  },
  {
   "cell_type": "code",
   "execution_count": null,
   "metadata": {},
   "outputs": [],
   "source": [
    "predicted_wav, predicted_sr = inference_handler.infer(mel_spec)"
   ]
  },
  {
   "cell_type": "code",
   "execution_count": null,
   "metadata": {},
   "outputs": [],
   "source": [
    "Audio(predicted_wav, rate=predicted_sr)"
   ]
  },
  {
   "cell_type": "code",
   "execution_count": null,
   "metadata": {},
   "outputs": [],
   "source": [
    "plt.figure(figsize=(10, 4))\n",
    "\n",
    "# Plot the original waveform\n",
    "plt.subplot(1, 2, 1)\n",
    "librosa.display.waveplot(sample_wav.astype('float32'), sr=sample_sr)\n",
    "plt.title('Sample Waveform')\n",
    "plt.xlabel('Time (s)')\n",
    "plt.ylabel('Amplitude')\n",
    "\n",
    "# Plot the predicted waveform\n",
    "plt.subplot(1, 2, 2)\n",
    "librosa.display.waveplot(predicted_wav.astype('float32'), sr=predicted_sr)\n",
    "plt.title('Predicted Waveform')\n",
    "plt.xlabel('Time (s)')\n",
    "plt.ylabel('Amplitude')\n",
    "\n",
    "plt.tight_layout()\n",
    "plt.show()"
   ]
  },
  {
   "cell_type": "code",
   "execution_count": null,
   "metadata": {},
   "outputs": [],
   "source": [
    "plt.figure(figsize=(10, 4))\n",
    "librosa.display.waveplot(sample_wav.astype('float32'), sr=sample_sr, alpha=0.5, label=\"Sample Wav\")\n",
    "librosa.display.waveplot(predicted_wav.astype('float32'), sr=predicted_sr, alpha=0.5, label=\"Predicted Wav\")\n",
    "plt.title('Waveforms')\n",
    "plt.xlabel('Time (s)')\n",
    "plt.ylabel('Amplitude')\n",
    "plt.legend()\n"
   ]
  },
  {
   "cell_type": "code",
   "execution_count": null,
   "metadata": {},
   "outputs": [],
   "source": [
    "predicted_mel = HiFiGanDataset.mel_spectrogram(\n",
    "    torch.FloatTensor(predicted_wav / hps.max_wav_value).unsqueeze(0),\n",
    "    n_fft=hps.n_fft,\n",
    "    num_mels=hps.num_mels,\n",
    "    sampling_rate=hps.sampling_rate,\n",
    "    hop_size=hps.hop_size,\n",
    "    win_size=hps.win_size,\n",
    "    fmin=hps.fmin,\n",
    "    fmax=hps.fmax_for_loss,\n",
    ")"
   ]
  },
  {
   "cell_type": "code",
   "execution_count": null,
   "metadata": {},
   "outputs": [],
   "source": [
    "plt.figure(figsize=(10, 6))\n",
    "\n",
    "plt.subplot(2, 1, 1)\n",
    "plt.imshow(mel_spec[0], aspect=\"auto\", origin=\"lower\", interpolation=\"none\")\n",
    "plt.title('Sample Mel')\n",
    "plt.xlabel('Time (s)')\n",
    "plt.ylabel('Amplitude')\n",
    "\n",
    "# Plot the predicted waveform\n",
    "plt.subplot(2, 1, 2)\n",
    "plt.imshow(predicted_mel[0], aspect=\"auto\", origin=\"lower\", interpolation=\"none\")\n",
    "plt.title('Predicted Mel')\n",
    "plt.xlabel('Time (s)')\n",
    "plt.ylabel('Amplitude')\n",
    "\n",
    "plt.tight_layout()\n",
    "plt.show()\n"
   ]
  },
  {
   "cell_type": "code",
   "execution_count": null,
   "metadata": {},
   "outputs": [],
   "source": []
  }
 ],
 "metadata": {
  "kernelspec": {
   "display_name": "Python 3",
   "language": "python",
   "name": "python3"
  },
  "language_info": {
   "codemirror_mode": {
    "name": "ipython",
    "version": 3
   },
   "file_extension": ".py",
   "mimetype": "text/x-python",
   "name": "python",
   "nbconvert_exporter": "python",
   "pygments_lexer": "ipython3",
   "version": "3.6.9"
  }
 },
 "nbformat": 4,
 "nbformat_minor": 2
}
